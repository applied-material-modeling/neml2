{
 "cells": [
  {
   "cell_type": "markdown",
   "metadata": {},
   "source": [
    "# Crystal plasticity formulations\n",
    "\n",
    "XXX"
   ]
  },
  {
   "cell_type": "markdown",
   "metadata": {},
   "source": [
    "## Importing required libraries and setting up\n",
    "\n",
    "This example will run on the GPU with CUDA if available.  `nchunk` is the chunk size for the `pyzag` integration, `ncrystal` is the number of random initial crystal orientations to use.\n",
    "\n",
    "This example simulates rolling in an FCC material.  `rate` sets the strain rate, `total_rolling_strain` the reduction strain, and `ntime` the number of time steps to take.\n",
    "\n",
    "We need to calculate both the deformation rate/vorticity and the deformation gradient"
   ]
  },
  {
   "cell_type": "code",
   "execution_count": 1,
   "metadata": {},
   "outputs": [],
   "source": [
    "import sys\n",
    "sys.path.append(\"/home/messner/packages/pyzag\")\n",
    "import matplotlib.pyplot as plt\n",
    "import torch\n",
    "import neml2\n",
    "import neml2.tensors\n",
    "from pyzag import nonlinear, chunktime\n",
    "import neml2.postprocessing"
   ]
  },
  {
   "cell_type": "code",
   "execution_count": 2,
   "metadata": {},
   "outputs": [],
   "source": [
    "torch.set_default_dtype(torch.double)\n",
    "if torch.cuda.is_available():\n",
    "    dev = \"cuda:0\"\n",
    "else:\n",
    "    dev = \"cpu\"\n",
    "device = torch.device(dev)\n",
    "\n",
    "nchunk = 10\n",
    "ncrystal = 500"
   ]
  },
  {
   "cell_type": "code",
   "execution_count": 3,
   "metadata": {},
   "outputs": [],
   "source": [
    "rate = 0.0001\n",
    "total_rolling_strain = 0.5\n",
    "ntime = 2500\n",
    "end_time = total_rolling_strain / rate\n",
    "initial_orientations = neml2.tensors.Rot.fill_random(ncrystal).torch().to(device)"
   ]
  },
  {
   "cell_type": "code",
   "execution_count": 4,
   "metadata": {},
   "outputs": [],
   "source": [
    "deformation_rate = torch.zeros((ntime, ncrystal, 6), device = device)\n",
    "deformation_rate[:, :, 1] = rate\n",
    "deformation_rate[:, :, 2] = -rate\n",
    "times = torch.linspace(0, end_time, ntime, device = device).unsqueeze(-1).unsqueeze(-1).expand((ntime, ncrystal, 1))\n",
    "vorticity = torch.zeros((ntime, ncrystal, 3), device = device)"
   ]
  },
  {
   "cell_type": "code",
   "execution_count": 5,
   "metadata": {},
   "outputs": [],
   "source": [
    "# Now get the integrated deformation gradient\n",
    "full_deformation_rate = neml2.tensors.R2(neml2.tensors.SR2(deformation_rate)).torch()\n",
    "F = torch.zeros_like(full_deformation_rate)\n",
    "F[0] = torch.eye(3, device = device)\n",
    "dt = torch.diff(times, dim = 0)\n",
    "Finc = torch.linalg.matrix_exp(full_deformation_rate[:-1] * dt.unsqueeze(-1))\n",
    "for i in range(1, ntime):\n",
    "    F[i] = Finc[i-1] @ F[i - 1]"
   ]
  },
  {
   "cell_type": "markdown",
   "metadata": {},
   "source": [
    "## pyzag driver for the separate model\n",
    "\n",
    "For more details on the pyzag driver used here see the deterministic and stochastic inference examples.  This helper object just lets us integrate the crystal model using pyzag"
   ]
  },
  {
   "cell_type": "code",
   "execution_count": 6,
   "metadata": {},
   "outputs": [],
   "source": [
    "\n",
    "class SolveSeparate(torch.nn.Module):\n",
    "    \"\"\"Just integrate the model through some strain history\n",
    "\n",
    "    Args:\n",
    "        discrete_equations: the pyzag wrapped model\n",
    "        nchunk (int): number of vectorized time steps\n",
    "        rtol (float): relative tolerance to use for Newton's method during time integration\n",
    "        atol (float): absolute tolerance to use for Newton's method during time integration\n",
    "    \"\"\"\n",
    "    def __init__(self, discrete_equations, nchunk = 1, rtol = 1.0e-6, atol = 1.0e-8):\n",
    "        super().__init__()\n",
    "        self.discrete_equations = discrete_equations\n",
    "        self.nchunk = nchunk\n",
    "        self.rtol = rtol\n",
    "        self.atol = atol\n",
    "\n",
    "    def forward(self, time, deformation_rate, vorticity, initial_orientations = None):\n",
    "        \"\"\"Integrate through some time/temperature/strain history and return stress\n",
    "        Args:\n",
    "            time (torch.tensor): batched times\n",
    "            deformation_rate (torch.tensor): batched deformation rates\n",
    "            vorticity (torch.tensor): batched vocticities\n",
    "\n",
    "        Keyword Args:\n",
    "            initial_orientation (torch.tensor): if provided, the initial orientations for each crystal\n",
    "        \"\"\"\n",
    "        solver = nonlinear.RecursiveNonlinearEquationSolver(\n",
    "            self.discrete_equations, step_generator = nonlinear.StepGenerator(self.nchunk),\n",
    "            predictor=nonlinear.PreviousStepsPredictor(), nonlinear_solver = chunktime.ChunkNewtonRaphson(rtol = self.rtol, atol = self.atol)\n",
    "        )\n",
    "\n",
    "\n",
    "        # Setup\n",
    "        forces = self.discrete_equations.forces_asm.assemble_by_variable({'forces/t': time, 'forces/deformation_rate': deformation_rate, 'forces/vorticity': vorticity}).torch()\n",
    "        state0 = self.discrete_equations.state_asm.split_by_variable(neml2.Tensor(torch.zeros(forces.shape[1:-1] + (self.discrete_equations.nstate,), device = forces.device), 1))\n",
    "        if initial_orientations is not None:\n",
    "            state0['state/orientation'] = neml2.Tensor(initial_orientations, 1)\n",
    "        state0 = self.discrete_equations.state_asm.assemble_by_variable(state0).torch()\n",
    "\n",
    "        result =  nonlinear.solve_adjoint(\n",
    "            solver, state0, len(forces), forces\n",
    "        )\n",
    "\n",
    "        return result"
   ]
  },
  {
   "cell_type": "markdown",
   "metadata": {},
   "source": [
    "## Simulate rolling deformation for the seperated model\n",
    "\n",
    "Simulate the rolling deformation and extract the final crystal orientations"
   ]
  },
  {
   "cell_type": "code",
   "execution_count": 7,
   "metadata": {},
   "outputs": [],
   "source": [
    "nmodel_separate = neml2.load_model(\"crystal.i\", \"implicit_rate\")\n",
    "nmodel_separate.to(device = device)\n",
    "model_separate = SolveSeparate(neml2.pyzag.NEML2PyzagModel(nmodel_separate), nchunk = nchunk)"
   ]
  },
  {
   "cell_type": "code",
   "execution_count": 8,
   "metadata": {},
   "outputs": [],
   "source": [
    "with torch.no_grad():\n",
    "    orientations_separate = neml2.tensors.Rot(model_separate(times, deformation_rate, vorticity, initial_orientations = initial_orientations)[-1,:,6:9])"
   ]
  },
  {
   "cell_type": "markdown",
   "metadata": {},
   "source": [
    "## ODF reconstruction for the seperate model\n",
    "\n",
    "Reconstruct the ODF from the discrete data.  This example optimizes the kernel half-width with the build in routine (which uses a cross-validation approach).  Print the final, optimal half width."
   ]
  },
  {
   "cell_type": "code",
   "execution_count": 9,
   "metadata": {},
   "outputs": [
    {
     "name": "stderr",
     "output_type": "stream",
     "text": [
      "loss: -3.43226e+00: 100%|██████████| 50/50 [00:29<00:00,  1.71it/s]"
     ]
    },
    {
     "name": "stdout",
     "output_type": "stream",
     "text": [
      "Parameter containing:\n",
      "tensor(0.0476, requires_grad=True)\n"
     ]
    },
    {
     "name": "stderr",
     "output_type": "stream",
     "text": [
      "\n"
     ]
    }
   ],
   "source": [
    "odf_separate = neml2.postprocessing.odf.KDEODF(orientations_separate, neml2.postprocessing.odf.DeLaValleePoussinKernel(torch.tensor(0.1)))\n",
    "odf_separate.optimize_kernel(verbose = True)\n",
    "print(odf_separate.kernel.h)"
   ]
  },
  {
   "cell_type": "markdown",
   "metadata": {},
   "source": [
    "## pyzag driver for the multiplicative model\n",
    "\n",
    "Same thing as for the separated model, just now for the multiplicative form where we take the deformation gradient as input.  Don't forget to set the initial plastic deformation gradient to the identity!"
   ]
  },
  {
   "cell_type": "code",
   "execution_count": 10,
   "metadata": {},
   "outputs": [],
   "source": [
    "\n",
    "class SolveMultiplicative(torch.nn.Module):\n",
    "    \"\"\"Just integrate the model through some strain history\n",
    "\n",
    "    Args:\n",
    "        discrete_equations: the pyzag wrapped model\n",
    "        nchunk (int): number of vectorized time steps\n",
    "        rtol (float): relative tolerance to use for Newton's method during time integration\n",
    "        atol (float): absolute tolerance to use for Newton's method during time integration\n",
    "    \"\"\"\n",
    "    def __init__(self, discrete_equations, nchunk = 1, rtol = 1.0e-6, atol = 1.0e-8):\n",
    "        super().__init__()\n",
    "        self.discrete_equations = discrete_equations\n",
    "        self.nchunk = nchunk\n",
    "        self.rtol = rtol\n",
    "        self.atol = atol\n",
    "\n",
    "    def forward(self, time, deformation_gradient, initial_orientations = None):\n",
    "        \"\"\"Integrate through some time/temperature/strain history and return stress\n",
    "        Args:\n",
    "            time (torch.tensor): batched times\n",
    "            deformation_gradient (torch.tensor): batched deformation gradients\n",
    "\n",
    "        Keyword Args:\n",
    "            initial_orientation (torch.tensor): if provided, the initial orientations for each crystal\n",
    "        \"\"\"\n",
    "        solver = nonlinear.RecursiveNonlinearEquationSolver(\n",
    "            self.discrete_equations, step_generator = nonlinear.StepGenerator(self.nchunk),\n",
    "            predictor=nonlinear.PreviousStepsPredictor(), nonlinear_solver = chunktime.ChunkNewtonRaphson(rtol = self.rtol, atol = self.atol)\n",
    "        )\n",
    "\n",
    "        # Setup\n",
    "        forces = self.discrete_equations.forces_asm.assemble_by_variable({'forces/t': time, 'forces/F': deformation_gradient.flatten(start_dim=-2), 'forces/r': initial_orientations.unsqueeze(0).expand(time.shape[:-1]+(3,))}).torch()\n",
    "        state0 = self.discrete_equations.state_asm.split_by_variable(neml2.Tensor(torch.zeros(forces.shape[1:-1] + (self.discrete_equations.nstate,), device = forces.device), 1))\n",
    "        state0['state/Fp'] = neml2.tensors.Tensor(torch.eye(3, device = time.device).unsqueeze(0).expand(time.shape[1:2]+(3,3)), 1)\n",
    "        state0 = self.discrete_equations.state_asm.assemble_by_variable(state0).torch()\n",
    "\n",
    "        result =  nonlinear.solve_adjoint(\n",
    "            solver, state0, len(forces), forces\n",
    "        )\n",
    "\n",
    "        return result"
   ]
  },
  {
   "cell_type": "markdown",
   "metadata": {},
   "source": [
    "## Simulate for the multiplicative model\n",
    "Again, simulate rolling deformation"
   ]
  },
  {
   "cell_type": "code",
   "execution_count": 11,
   "metadata": {},
   "outputs": [],
   "source": [
    "nmodel_mult = neml2.load_model(\"crystal_multiplicative.i\", \"implicit_rate\")\n",
    "nmodel_mult.to(device = device)\n",
    "model_mult = SolveMultiplicative(neml2.pyzag.NEML2PyzagModel(nmodel_mult), nchunk = nchunk)"
   ]
  },
  {
   "cell_type": "code",
   "execution_count": 12,
   "metadata": {},
   "outputs": [],
   "source": [
    "with torch.no_grad():\n",
    "    results_mult = model_mult(times, F, initial_orientations = initial_orientations)[-1]"
   ]
  },
  {
   "cell_type": "markdown",
   "metadata": {},
   "source": [
    "## Extract the orientations for the multiplicative model\n",
    "\n",
    "This takes some doing.  We first need to get $F_p$ from the state, then calculate $F_e = F F_p^{-1}$, then do a polar decomposition to get the rotation as a matrix, then convert to modified Rodrigues parameters."
   ]
  },
  {
   "cell_type": "code",
   "execution_count": 13,
   "metadata": {},
   "outputs": [
    {
     "ename": "KeyError",
     "evalue": "'state/Fp'",
     "output_type": "error",
     "traceback": [
      "\u001b[31m---------------------------------------------------------------------------\u001b[39m",
      "\u001b[31mKeyError\u001b[39m                                  Traceback (most recent call last)",
      "\u001b[36mCell\u001b[39m\u001b[36m \u001b[39m\u001b[32mIn[13]\u001b[39m\u001b[32m, line 2\u001b[39m\n\u001b[32m      1\u001b[39m split_state = model_mult.discrete_equations.state_asm.split_by_variable(neml2.Tensor(results_mult,\u001b[32m0\u001b[39m))\n\u001b[32m----> \u001b[39m\u001b[32m2\u001b[39m Fp = \u001b[43msplit_state\u001b[49m\u001b[43m[\u001b[49m\u001b[33;43m\"\u001b[39;49m\u001b[33;43mstate/Fp\u001b[39;49m\u001b[33;43m\"\u001b[39;49m\u001b[43m]\u001b[49m.torch().reshape(-\u001b[32m1\u001b[39m,\u001b[32m3\u001b[39m,\u001b[32m3\u001b[39m)\n\u001b[32m      3\u001b[39m Flast = F[-\u001b[32m1\u001b[39m]\n\u001b[32m      4\u001b[39m Fe = Flast @ torch.linalg.inv(Fp)\n",
      "\u001b[31mKeyError\u001b[39m: 'state/Fp'"
     ]
    }
   ],
   "source": [
    "split_state = model_mult.discrete_equations.state_asm.split_by_variable(neml2.Tensor(results_mult,0))\n",
    "Fp = split_state[\"state/Fp\"].torch().reshape(-1,3,3)\n",
    "Flast = F[-1]\n",
    "Fe = Flast @ torch.linalg.inv(Fp)\n",
    "U, S, Vh = torch.linalg.svd(Fe)\n"
   ]
  },
  {
   "cell_type": "markdown",
   "metadata": {},
   "source": [
    "## Plot the pole figures\n",
    "\n",
    "Use the reconstructed ODFs to plot continuous 111 polefigure"
   ]
  },
  {
   "cell_type": "code",
   "execution_count": null,
   "metadata": {},
   "outputs": [],
   "source": [
    "neml2.postprocessing.pretty_plot_pole_figure_odf(odf_separate, torch.tensor([1,1,1.0], device = device), crystal_symmetry = \"432\", limits = (0.0, 3.0), ncontour = 12)"
   ]
  }
 ],
 "metadata": {
  "kernelspec": {
   "display_name": "Python 3",
   "language": "python",
   "name": "python3"
  },
  "language_info": {
   "codemirror_mode": {
    "name": "ipython",
    "version": 3
   },
   "file_extension": ".py",
   "mimetype": "text/x-python",
   "name": "python",
   "nbconvert_exporter": "python",
   "pygments_lexer": "ipython3",
   "version": "3.11.0"
  }
 },
 "nbformat": 4,
 "nbformat_minor": 2
}
